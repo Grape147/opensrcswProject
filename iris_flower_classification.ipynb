{
 "cells": [
  {
   "cell_type": "code",
   "execution_count": 23,
   "metadata": {
    "scrolled": true
   },
   "outputs": [
    {
     "name": "stdout",
     "output_type": "stream",
     "text": [
      "DATASET SAMPLE:\n",
      "     sepal length  sepal width  petal length  petal width          species\n",
      "109           7.2          3.6           6.1          2.5   Iris-virginica\n",
      "42            4.4          3.2           1.3          0.2      Iris-setosa\n",
      "81            5.5          2.4           3.7          1.0  Iris-versicolor\n",
      "94            5.6          2.7           4.2          1.3  Iris-versicolor\n",
      "105           7.6          3.0           6.6          2.1   Iris-virginica\n",
      "40            5.0          3.5           1.3          0.3      Iris-setosa\n"
     ]
    }
   ],
   "source": [
    "import pandas as pd\n",
    "import numpy as np\n",
    "from sklearn.model_selection import train_test_split\n",
    "from sklearn.neighbors import KNeighborsClassifier\n",
    "from sklearn.metrics import classification_report\n",
    "from sklearn.metrics import confusion_matrix\n",
    "from sklearn.metrics import accuracy_score\n",
    "\n",
    "def species_to_int(species: str) -> int:\n",
    "    if species == \"Iris-versicolor\": return 0\n",
    "    elif species == \"Iris-setosa\": return 1\n",
    "    elif species == \"Iris-virginica\": return 2\n",
    "\n",
    "def species_to_string(species: int) -> str:\n",
    "    if species == 0: return \"Iris-versicolor\"\n",
    "    elif species == 1: return \"Iris-setosa\"\n",
    "    elif species == 2: return \"Iris-virginica\"\n",
    "\n",
    "data: pd.DataFrame = pd.read_csv(\"iris_data.csv\", names = [\"sepal length\", \"sepal width\", \"petal length\", \"petal width\", \"species\"])\n",
    "\n",
    "print(\"DATASET SAMPLE:\")\n",
    "print(data.sample(frac = 0.04).to_string())\n",
    "\n",
    "data[\"species\"]: pd.Series = data[\"species\"].apply(species_to_int)\n",
    "\n"
   ]
  },
  {
   "cell_type": "code",
   "execution_count": 10,
   "metadata": {},
   "outputs": [
    {
     "name": "stdout",
     "output_type": "stream",
     "text": [
      "105 train +  45 test\n"
     ]
    }
   ],
   "source": [
    "# 데이터들 분류 & test\n",
    "train: pd.DataFrame\n",
    "test: pd.DataFrame\n",
    "train, test = train_test_split(data, test_size = 0.3) # test_size\n",
    "print(\"test set : \", len(train), \"train + \", len(test), \"test\")"
   ]
  },
  {
   "cell_type": "code",
   "execution_count": 24,
   "metadata": {},
   "outputs": [
    {
     "name": "stdout",
     "output_type": "stream",
     "text": [
      "\n",
      "KNN 예측 결과:\n",
      "           test_data       prediction  correct\n",
      "6        Iris-setosa      Iris-setosa     True\n",
      "32       Iris-setosa      Iris-setosa     True\n",
      "116   Iris-virginica   Iris-virginica     True\n",
      "70   Iris-versicolor   Iris-virginica    False\n",
      "71   Iris-versicolor  Iris-versicolor     True\n",
      "73   Iris-versicolor  Iris-versicolor     True\n",
      "148   Iris-virginica   Iris-virginica     True\n",
      "51   Iris-versicolor  Iris-versicolor     True\n",
      "33       Iris-setosa      Iris-setosa     True\n",
      "78   Iris-versicolor  Iris-versicolor     True\n",
      "91   Iris-versicolor  Iris-versicolor     True\n",
      "21       Iris-setosa      Iris-setosa     True\n",
      "140   Iris-virginica   Iris-virginica     True\n",
      "123   Iris-virginica   Iris-virginica     True\n",
      "55   Iris-versicolor  Iris-versicolor     True\n",
      "40       Iris-setosa      Iris-setosa     True\n",
      "134   Iris-virginica   Iris-virginica     True\n",
      "96   Iris-versicolor  Iris-versicolor     True\n",
      "27       Iris-setosa      Iris-setosa     True\n",
      "15       Iris-setosa      Iris-setosa     True\n",
      "58   Iris-versicolor  Iris-versicolor     True\n",
      "132   Iris-virginica   Iris-virginica     True\n",
      "121   Iris-virginica   Iris-virginica     True\n",
      "57   Iris-versicolor  Iris-versicolor     True\n",
      "102   Iris-virginica   Iris-virginica     True\n",
      "124   Iris-virginica   Iris-virginica     True\n",
      "80   Iris-versicolor  Iris-versicolor     True\n",
      "18       Iris-setosa      Iris-setosa     True\n",
      "66   Iris-versicolor  Iris-versicolor     True\n",
      "84   Iris-versicolor  Iris-versicolor     True\n",
      "76   Iris-versicolor  Iris-versicolor     True\n",
      "86   Iris-versicolor  Iris-versicolor     True\n",
      "4        Iris-setosa      Iris-setosa     True\n",
      "36       Iris-setosa      Iris-setosa     True\n",
      "41       Iris-setosa      Iris-setosa     True\n",
      "49       Iris-setosa      Iris-setosa     True\n",
      "82   Iris-versicolor  Iris-versicolor     True\n",
      "19       Iris-setosa      Iris-setosa     True\n",
      "56   Iris-versicolor  Iris-versicolor     True\n",
      "109   Iris-virginica   Iris-virginica     True\n",
      "142   Iris-virginica   Iris-virginica     True\n",
      "16       Iris-setosa      Iris-setosa     True\n",
      "119   Iris-virginica  Iris-versicolor    False\n",
      "74   Iris-versicolor  Iris-versicolor     True\n",
      "122   Iris-virginica   Iris-virginica     True\n",
      "\n",
      "ACCURACY SCORE:  0.9555555555555556\n"
     ]
    }
   ],
   "source": [
    "# test한 정보들 저장\n",
    "X: pd.DataFrame = train.iloc[:, 0:-1]\n",
    "y: pd.Series = train.iloc[:, -1]\n",
    "y = pd.to_numeric(y) # int형으로 변경\n",
    "\n",
    "# test info\n",
    "y_test: pd.Series = pd.to_numeric(test.iloc[:, -1])\n",
    "\n",
    "# knn 알고리즘을 적용\n",
    "KNN = KNeighborsClassifier()\n",
    "KNN.fit(X, y) # train\n",
    "predictions = KNN.predict(test.iloc[:, :-1]) # KNN을 이용한 예측\n",
    "\n",
    "# 결과 출력\n",
    "print(\"\\nKNN 예측 결과:\")\n",
    "comparison = pd.DataFrame({\"test_data\": y_test, \"prediction\": predictions}) # 예측과 실제 결과를 비교\n",
    "comparison[\"test_data\"] = comparison[\"test_data\"].apply(species_to_string)\n",
    "comparison[\"prediction\"] = comparison[\"prediction\"].apply(species_to_string)\n",
    "comparison[\"correct\"] = comparison[\"test_data\"] == comparison[\"prediction\"]\n",
    "print(comparison.to_string())\n",
    "\n",
    "print(\"\\nACCURACY SCORE: \", accuracy_score(y_test, predictions))"
   ]
  },
  {
   "cell_type": "code",
   "execution_count": null,
   "metadata": {},
   "outputs": [],
   "source": []
  },
  {
   "cell_type": "code",
   "execution_count": null,
   "metadata": {},
   "outputs": [],
   "source": []
  }
 ],
 "metadata": {
  "kernelspec": {
   "display_name": "Python 3",
   "language": "python",
   "name": "python3"
  },
  "language_info": {
   "codemirror_mode": {
    "name": "ipython",
    "version": 3
   },
   "file_extension": ".py",
   "mimetype": "text/x-python",
   "name": "python",
   "nbconvert_exporter": "python",
   "pygments_lexer": "ipython3",
   "version": "3.8.2"
  }
 },
 "nbformat": 4,
 "nbformat_minor": 2
}
